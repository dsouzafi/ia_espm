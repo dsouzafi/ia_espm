{
  "nbformat": 4,
  "nbformat_minor": 0,
  "metadata": {
    "colab": {
      "provenance": [],
      "authorship_tag": "ABX9TyNX3tWlizG8EsFQafdd9H9O",
      "include_colab_link": true
    },
    "kernelspec": {
      "name": "python3",
      "display_name": "Python 3"
    },
    "language_info": {
      "name": "python"
    }
  },
  "cells": [
    {
      "cell_type": "markdown",
      "metadata": {
        "id": "view-in-github",
        "colab_type": "text"
      },
      "source": [
        "<a href=\"https://colab.research.google.com/github/dsouzafi/ia_espm/blob/main/P11A_IA_Reg_Linear.ipynb\" target=\"_parent\"><img src=\"https://colab.research.google.com/assets/colab-badge.svg\" alt=\"Open In Colab\"/></a>"
      ]
    },
    {
      "cell_type": "markdown",
      "source": [
        "<a name=\"Topo\"></a>\n",
        "# Regressão Linear usando Python\n",
        "\n",
        "O modelo de **Regressão Linear** é uma técnica estatística utilizada na **aprendizagem supervisionada**.\n",
        "\n",
        "Este modelo, na sua forma multivariada, é representado pela seguinte fórmula:\n",
        "\n",
        "$$\n",
        "\\hat{Y}_{i}=\\alpha +\\beta _{1}\\cdot X_{1i}+\\beta _{2}\\cdot X_{2i}+...+\\beta _{k}\\cdot X_{ki}\n",
        "$$\n",
        "\n",
        "em que\n",
        "\n",
        "\n",
        "> $\\hat{Y}_{i}$ é o valor estimado da variável dependente $Y$\n",
        "\n",
        "\n",
        "> $X_{ki}$ são as variáveis independentes (ou preditoras)\n",
        "\n",
        "\n",
        "\n",
        "> $\\alpha$ e $\\beta _{k}$ são os parâmetros de ajuste do modelo\n",
        "\n",
        "Vamos seguir estes passos para executar um projeto de aprendizado de máquina usando a Regressão Linear:\n",
        "\n",
        "1. [Descrever o problema e identificar suas características](#Item-1)\n",
        "2. [Importar as bibliotecas necessárias](#Item-2)\n",
        "3. [Carregar, explorar e visualizar o conjunto de dados (*dataset*)](#Item-3)\n",
        "4. [Lidar com os *outliers*](#Item-4)\n",
        "5. [Limpar os dados](#Item-5)\n",
        "6. [Dividir os dados em um conjunto de treinamento e um de teste](#Item-6)\n",
        "7. [Ajustar um modelo de regressão linear](#Item-7)\n",
        "8. [Aplicar o modelo no conjunto de teste e fazer uma previsão](#Item-8)\n",
        "9. [Avaliar o desempenho do modelo](#Item-9)\n",
        "10. [Criar uma interface para testar o modelo usando o *Gradio*](#Item-10)"
      ],
      "metadata": {
        "id": "yyVNYeoc4XQ-"
      }
    },
    {
      "cell_type": "markdown",
      "source": [
        "<a name=\"Item-1\"></a>\n",
        "## 1. Descrever o problema e identificar suas características\n",
        "\n",
        "O objetivo de uma imobiliária da cidade de Santos é estimar o valor de venda dos imóveis da sua carteira a partir das características levantadas das vendas que foram realizadas no último ano.\n",
        "\n",
        "Da sua base de dados, foi obtido um conjunto de dados com as seguintes características:\n",
        "\n",
        "* Bairro\n",
        "* Tipo do imóvel\n",
        "* Quantidade de dormitórios\n",
        "* Quantidade de suítes\n",
        "* Quantidade de banheiros\n",
        "* Quantidade de vagas na garagem\n",
        "* Átea útil do imóvel ($m^{2}$)\n",
        "* Valor de venda (kR$)\n",
        "\n",
        "Claramente temos uma tarefa típica de aprendizado supervisionado, uma vez que temos exemplos *rotulados* de treinamento (cada instância vem com o resultado esperado, ou seja o valor de venda de cada imóvel). Além disso, também é uma tarefa típica de regressão, já que é solicitado que se faça a previsão de um valor. Mais especificamente, trata-se de um problema de regressão múltipla, uma que o sistema utilizará múltiplas características para fazer a previsão."
      ],
      "metadata": {
        "id": "pXFXYe7dOzLz"
      }
    },
    {
      "cell_type": "markdown",
      "source": [
        "[Voltar ao topo](#Topo)"
      ],
      "metadata": {
        "id": "BryP7WALL1G1"
      }
    },
    {
      "cell_type": "markdown",
      "source": [
        "<a name=\"Item-2\"></a>\n",
        "## 2. Importar as bibliotecas necessárias\n",
        "Aqui são importados todos os pacotes necessários para a execução do projeto de aprendizado de máquina."
      ],
      "metadata": {
        "id": "a4avizwGUpIn"
      }
    },
    {
      "cell_type": "code",
      "source": [
        "import numpy as np #biblioteca de matemática para trabalhar com matrizes\n",
        "import matplotlib.pyplot as plt #biblioteca para criar visualizações gráficas\n",
        "import pandas as pd #biblioteca para importação, manipulação e análises de estruturas de dados\n",
        "import seaborn as sns #biblioteca para visuzalição estatística dos dados\n",
        "import statsmodels.api as sm #biblioteca para a estimação de modelos estatísticos\n",
        "from pandas.plotting import scatter_matrix #função para visualizar uma matriz de dispersão\n",
        "from sklearn.model_selection import train_test_split #do pacote Scikit-Lear, função para dividir o conjunto de dados em um conjunto de teste e um de treinamento\n",
        "from sklearn.linear_model import LinearRegression #do pacote Scikit-Learn, função para fazer o ajuste da regressão linear\n",
        "from sklearn.metrics import mean_squared_error, r2_score #do pacote Scikit-Learn, funções para medidr o erro médio e o coeficiente de determinação\n",
        "!pip install gradio -q #biblioteca para criar demonstrações dos modelos de aprendizado de máquina\n",
        "import gradio as gr"
      ],
      "metadata": {
        "id": "j_jIPN0BrQeU",
        "colab": {
          "base_uri": "https://localhost:8080/"
        },
        "outputId": "80d5ab9a-c7e1-4018-b92e-a1362d635608"
      },
      "execution_count": 1,
      "outputs": [
        {
          "output_type": "stream",
          "name": "stdout",
          "text": [
            "\u001b[K     |████████████████████████████████| 6.1 MB 7.6 MB/s \n",
            "\u001b[K     |████████████████████████████████| 112 kB 45.8 MB/s \n",
            "\u001b[K     |████████████████████████████████| 57 kB 4.4 MB/s \n",
            "\u001b[K     |████████████████████████████████| 212 kB 47.0 MB/s \n",
            "\u001b[K     |████████████████████████████████| 54 kB 1.6 MB/s \n",
            "\u001b[K     |████████████████████████████████| 2.3 MB 46.3 MB/s \n",
            "\u001b[K     |████████████████████████████████| 55 kB 3.1 MB/s \n",
            "\u001b[K     |████████████████████████████████| 84 kB 2.5 MB/s \n",
            "\u001b[K     |████████████████████████████████| 84 kB 3.4 MB/s \n",
            "\u001b[K     |████████████████████████████████| 270 kB 42.6 MB/s \n",
            "\u001b[K     |████████████████████████████████| 63 kB 1.8 MB/s \n",
            "\u001b[K     |████████████████████████████████| 80 kB 4.0 MB/s \n",
            "\u001b[K     |████████████████████████████████| 68 kB 5.5 MB/s \n",
            "\u001b[K     |████████████████████████████████| 43 kB 1.7 MB/s \n",
            "\u001b[K     |████████████████████████████████| 4.0 MB 42.6 MB/s \n",
            "\u001b[K     |████████████████████████████████| 856 kB 12.2 MB/s \n",
            "\u001b[K     |████████████████████████████████| 594 kB 52.3 MB/s \n",
            "\u001b[?25h  Building wheel for ffmpy (setup.py) ... \u001b[?25l\u001b[?25hdone\n",
            "  Building wheel for python-multipart (setup.py) ... \u001b[?25l\u001b[?25hdone\n"
          ]
        }
      ]
    },
    {
      "cell_type": "markdown",
      "source": [
        "[Voltar ao topo](#Topo)"
      ],
      "metadata": {
        "id": "3p7T5woQMeyy"
      }
    },
    {
      "cell_type": "markdown",
      "source": [
        "<a name=\"Item-3\"></a>\n",
        "## 3. Carregar, explorar e visualizar o conjunto de dados (*dataset*)"
      ],
      "metadata": {
        "id": "3W27p3liM9RM"
      }
    },
    {
      "cell_type": "code",
      "source": [
        "#carregar o dataset e visualizar as cinco linhas superiores da tabela\n",
        "df = pd.read_csv(\"https://raw.githubusercontent.com/dsouzafi/ia_espm/main/datasets/imoveis.csv\")\n",
        "df.head()"
      ],
      "metadata": {
        "colab": {
          "base_uri": "https://localhost:8080/",
          "height": 204
        },
        "id": "sv_cook7NGup",
        "outputId": "67dcced0-66f0-49cf-dd5b-56f7fc4f1e4f"
      },
      "execution_count": 2,
      "outputs": [
        {
          "output_type": "execute_result",
          "data": {
            "text/plain": [
              "   Imovel  Cidade        Bairro           Tipo do imovel  Dormitorio  Suite  \\\n",
              "0       1  Santos     Boqueirao              Apartamento           2      0   \n",
              "1       2  Santos     Boqueirao              Apartamento           2      1   \n",
              "2       3  Santos       Gonzaga              Apartamento           2      0   \n",
              "3       4  Santos   Jose Menino  Apartamento Sala Living           1      0   \n",
              "4       5  Santos  Encruzilhada              Apartamento           2      1   \n",
              "\n",
              "   Banheiro  Vaga  Area Util  Valor de venda  \n",
              "0         1     1         74           300.0  \n",
              "1         1     1        100           470.0  \n",
              "2         2     1         83           350.0  \n",
              "3         1     1         35           175.0  \n",
              "4         2     1         68           470.0  "
            ],
            "text/html": [
              "\n",
              "  <div id=\"df-4c8ee81d-6f47-493c-81b0-f422795f07a2\">\n",
              "    <div class=\"colab-df-container\">\n",
              "      <div>\n",
              "<style scoped>\n",
              "    .dataframe tbody tr th:only-of-type {\n",
              "        vertical-align: middle;\n",
              "    }\n",
              "\n",
              "    .dataframe tbody tr th {\n",
              "        vertical-align: top;\n",
              "    }\n",
              "\n",
              "    .dataframe thead th {\n",
              "        text-align: right;\n",
              "    }\n",
              "</style>\n",
              "<table border=\"1\" class=\"dataframe\">\n",
              "  <thead>\n",
              "    <tr style=\"text-align: right;\">\n",
              "      <th></th>\n",
              "      <th>Imovel</th>\n",
              "      <th>Cidade</th>\n",
              "      <th>Bairro</th>\n",
              "      <th>Tipo do imovel</th>\n",
              "      <th>Dormitorio</th>\n",
              "      <th>Suite</th>\n",
              "      <th>Banheiro</th>\n",
              "      <th>Vaga</th>\n",
              "      <th>Area Util</th>\n",
              "      <th>Valor de venda</th>\n",
              "    </tr>\n",
              "  </thead>\n",
              "  <tbody>\n",
              "    <tr>\n",
              "      <th>0</th>\n",
              "      <td>1</td>\n",
              "      <td>Santos</td>\n",
              "      <td>Boqueirao</td>\n",
              "      <td>Apartamento</td>\n",
              "      <td>2</td>\n",
              "      <td>0</td>\n",
              "      <td>1</td>\n",
              "      <td>1</td>\n",
              "      <td>74</td>\n",
              "      <td>300.0</td>\n",
              "    </tr>\n",
              "    <tr>\n",
              "      <th>1</th>\n",
              "      <td>2</td>\n",
              "      <td>Santos</td>\n",
              "      <td>Boqueirao</td>\n",
              "      <td>Apartamento</td>\n",
              "      <td>2</td>\n",
              "      <td>1</td>\n",
              "      <td>1</td>\n",
              "      <td>1</td>\n",
              "      <td>100</td>\n",
              "      <td>470.0</td>\n",
              "    </tr>\n",
              "    <tr>\n",
              "      <th>2</th>\n",
              "      <td>3</td>\n",
              "      <td>Santos</td>\n",
              "      <td>Gonzaga</td>\n",
              "      <td>Apartamento</td>\n",
              "      <td>2</td>\n",
              "      <td>0</td>\n",
              "      <td>2</td>\n",
              "      <td>1</td>\n",
              "      <td>83</td>\n",
              "      <td>350.0</td>\n",
              "    </tr>\n",
              "    <tr>\n",
              "      <th>3</th>\n",
              "      <td>4</td>\n",
              "      <td>Santos</td>\n",
              "      <td>Jose Menino</td>\n",
              "      <td>Apartamento Sala Living</td>\n",
              "      <td>1</td>\n",
              "      <td>0</td>\n",
              "      <td>1</td>\n",
              "      <td>1</td>\n",
              "      <td>35</td>\n",
              "      <td>175.0</td>\n",
              "    </tr>\n",
              "    <tr>\n",
              "      <th>4</th>\n",
              "      <td>5</td>\n",
              "      <td>Santos</td>\n",
              "      <td>Encruzilhada</td>\n",
              "      <td>Apartamento</td>\n",
              "      <td>2</td>\n",
              "      <td>1</td>\n",
              "      <td>2</td>\n",
              "      <td>1</td>\n",
              "      <td>68</td>\n",
              "      <td>470.0</td>\n",
              "    </tr>\n",
              "  </tbody>\n",
              "</table>\n",
              "</div>\n",
              "      <button class=\"colab-df-convert\" onclick=\"convertToInteractive('df-4c8ee81d-6f47-493c-81b0-f422795f07a2')\"\n",
              "              title=\"Convert this dataframe to an interactive table.\"\n",
              "              style=\"display:none;\">\n",
              "        \n",
              "  <svg xmlns=\"http://www.w3.org/2000/svg\" height=\"24px\"viewBox=\"0 0 24 24\"\n",
              "       width=\"24px\">\n",
              "    <path d=\"M0 0h24v24H0V0z\" fill=\"none\"/>\n",
              "    <path d=\"M18.56 5.44l.94 2.06.94-2.06 2.06-.94-2.06-.94-.94-2.06-.94 2.06-2.06.94zm-11 1L8.5 8.5l.94-2.06 2.06-.94-2.06-.94L8.5 2.5l-.94 2.06-2.06.94zm10 10l.94 2.06.94-2.06 2.06-.94-2.06-.94-.94-2.06-.94 2.06-2.06.94z\"/><path d=\"M17.41 7.96l-1.37-1.37c-.4-.4-.92-.59-1.43-.59-.52 0-1.04.2-1.43.59L10.3 9.45l-7.72 7.72c-.78.78-.78 2.05 0 2.83L4 21.41c.39.39.9.59 1.41.59.51 0 1.02-.2 1.41-.59l7.78-7.78 2.81-2.81c.8-.78.8-2.07 0-2.86zM5.41 20L4 18.59l7.72-7.72 1.47 1.35L5.41 20z\"/>\n",
              "  </svg>\n",
              "      </button>\n",
              "      \n",
              "  <style>\n",
              "    .colab-df-container {\n",
              "      display:flex;\n",
              "      flex-wrap:wrap;\n",
              "      gap: 12px;\n",
              "    }\n",
              "\n",
              "    .colab-df-convert {\n",
              "      background-color: #E8F0FE;\n",
              "      border: none;\n",
              "      border-radius: 50%;\n",
              "      cursor: pointer;\n",
              "      display: none;\n",
              "      fill: #1967D2;\n",
              "      height: 32px;\n",
              "      padding: 0 0 0 0;\n",
              "      width: 32px;\n",
              "    }\n",
              "\n",
              "    .colab-df-convert:hover {\n",
              "      background-color: #E2EBFA;\n",
              "      box-shadow: 0px 1px 2px rgba(60, 64, 67, 0.3), 0px 1px 3px 1px rgba(60, 64, 67, 0.15);\n",
              "      fill: #174EA6;\n",
              "    }\n",
              "\n",
              "    [theme=dark] .colab-df-convert {\n",
              "      background-color: #3B4455;\n",
              "      fill: #D2E3FC;\n",
              "    }\n",
              "\n",
              "    [theme=dark] .colab-df-convert:hover {\n",
              "      background-color: #434B5C;\n",
              "      box-shadow: 0px 1px 3px 1px rgba(0, 0, 0, 0.15);\n",
              "      filter: drop-shadow(0px 1px 2px rgba(0, 0, 0, 0.3));\n",
              "      fill: #FFFFFF;\n",
              "    }\n",
              "  </style>\n",
              "\n",
              "      <script>\n",
              "        const buttonEl =\n",
              "          document.querySelector('#df-4c8ee81d-6f47-493c-81b0-f422795f07a2 button.colab-df-convert');\n",
              "        buttonEl.style.display =\n",
              "          google.colab.kernel.accessAllowed ? 'block' : 'none';\n",
              "\n",
              "        async function convertToInteractive(key) {\n",
              "          const element = document.querySelector('#df-4c8ee81d-6f47-493c-81b0-f422795f07a2');\n",
              "          const dataTable =\n",
              "            await google.colab.kernel.invokeFunction('convertToInteractive',\n",
              "                                                     [key], {});\n",
              "          if (!dataTable) return;\n",
              "\n",
              "          const docLinkHtml = 'Like what you see? Visit the ' +\n",
              "            '<a target=\"_blank\" href=https://colab.research.google.com/notebooks/data_table.ipynb>data table notebook</a>'\n",
              "            + ' to learn more about interactive tables.';\n",
              "          element.innerHTML = '';\n",
              "          dataTable['output_type'] = 'display_data';\n",
              "          await google.colab.output.renderOutput(dataTable, element);\n",
              "          const docLink = document.createElement('div');\n",
              "          docLink.innerHTML = docLinkHtml;\n",
              "          element.appendChild(docLink);\n",
              "        }\n",
              "      </script>\n",
              "    </div>\n",
              "  </div>\n",
              "  "
            ]
          },
          "metadata": {},
          "execution_count": 2
        }
      ]
    },
    {
      "cell_type": "code",
      "source": [
        "#descrição dos dados\n",
        "df.info()"
      ],
      "metadata": {
        "colab": {
          "base_uri": "https://localhost:8080/"
        },
        "id": "HF4tqGxuRv_v",
        "outputId": "2f47ea19-a7d1-4a72-9815-6b04b8b5c65b"
      },
      "execution_count": 3,
      "outputs": [
        {
          "output_type": "stream",
          "name": "stdout",
          "text": [
            "<class 'pandas.core.frame.DataFrame'>\n",
            "RangeIndex: 61 entries, 0 to 60\n",
            "Data columns (total 10 columns):\n",
            " #   Column          Non-Null Count  Dtype  \n",
            "---  ------          --------------  -----  \n",
            " 0   Imovel          61 non-null     int64  \n",
            " 1   Cidade          61 non-null     object \n",
            " 2   Bairro          61 non-null     object \n",
            " 3   Tipo do imovel  61 non-null     object \n",
            " 4   Dormitorio      61 non-null     int64  \n",
            " 5   Suite           61 non-null     int64  \n",
            " 6   Banheiro        61 non-null     int64  \n",
            " 7   Vaga            61 non-null     int64  \n",
            " 8   Area Util       61 non-null     int64  \n",
            " 9   Valor de venda  61 non-null     float64\n",
            "dtypes: float64(1), int64(6), object(3)\n",
            "memory usage: 4.9+ KB\n"
          ]
        }
      ]
    },
    {
      "cell_type": "code",
      "source": [
        "#resumo das categorias dos atributos qualitativos\n",
        "df[\"Tipo do imovel\"].value_counts()"
      ],
      "metadata": {
        "colab": {
          "base_uri": "https://localhost:8080/"
        },
        "id": "KOnfOk2iT8hB",
        "outputId": "d49c42fc-c674-49dd-a281-c4f60be7242f"
      },
      "execution_count": 4,
      "outputs": [
        {
          "output_type": "execute_result",
          "data": {
            "text/plain": [
              "Apartamento                55\n",
              "Apartamento Sala Living     3\n",
              "Apartamento Kitchenette     1\n",
              "Apartamento Cobertura       1\n",
              "Flat                        1\n",
              "Name: Tipo do imovel, dtype: int64"
            ]
          },
          "metadata": {},
          "execution_count": 4
        }
      ]
    },
    {
      "cell_type": "code",
      "source": [
        "#resumo dos atributos numéricos\n",
        "df.describe()"
      ],
      "metadata": {
        "colab": {
          "base_uri": "https://localhost:8080/",
          "height": 297
        },
        "id": "ePIZAAaEO_1t",
        "outputId": "f772a4e6-5b13-4ee5-9ec4-bd85d1832b1e"
      },
      "execution_count": 5,
      "outputs": [
        {
          "output_type": "execute_result",
          "data": {
            "text/plain": [
              "          Imovel  Dormitorio      Suite   Banheiro       Vaga   Area Util  \\\n",
              "count  61.000000   61.000000  61.000000  61.000000  61.000000   61.000000   \n",
              "mean   31.000000    2.196721   0.967213   2.114754   1.393443  111.770492   \n",
              "std    17.752934    0.945510   1.182754   1.367459   0.842193   86.265751   \n",
              "min     1.000000    0.000000   0.000000   0.000000   0.000000   27.000000   \n",
              "25%    16.000000    2.000000   0.000000   1.000000   1.000000   64.000000   \n",
              "50%    31.000000    2.000000   1.000000   2.000000   1.000000   84.000000   \n",
              "75%    46.000000    3.000000   1.000000   3.000000   2.000000  127.000000   \n",
              "max    61.000000    4.000000   4.000000   6.000000   5.000000  550.000000   \n",
              "\n",
              "       Valor de venda  \n",
              "count       61.000000  \n",
              "mean       611.230492  \n",
              "std        578.454698  \n",
              "min        114.310000  \n",
              "25%        285.000000  \n",
              "50%        400.000000  \n",
              "75%        695.000000  \n",
              "max       2800.000000  "
            ],
            "text/html": [
              "\n",
              "  <div id=\"df-63670660-c4e8-4af3-a641-7e2ea0fc7ef0\">\n",
              "    <div class=\"colab-df-container\">\n",
              "      <div>\n",
              "<style scoped>\n",
              "    .dataframe tbody tr th:only-of-type {\n",
              "        vertical-align: middle;\n",
              "    }\n",
              "\n",
              "    .dataframe tbody tr th {\n",
              "        vertical-align: top;\n",
              "    }\n",
              "\n",
              "    .dataframe thead th {\n",
              "        text-align: right;\n",
              "    }\n",
              "</style>\n",
              "<table border=\"1\" class=\"dataframe\">\n",
              "  <thead>\n",
              "    <tr style=\"text-align: right;\">\n",
              "      <th></th>\n",
              "      <th>Imovel</th>\n",
              "      <th>Dormitorio</th>\n",
              "      <th>Suite</th>\n",
              "      <th>Banheiro</th>\n",
              "      <th>Vaga</th>\n",
              "      <th>Area Util</th>\n",
              "      <th>Valor de venda</th>\n",
              "    </tr>\n",
              "  </thead>\n",
              "  <tbody>\n",
              "    <tr>\n",
              "      <th>count</th>\n",
              "      <td>61.000000</td>\n",
              "      <td>61.000000</td>\n",
              "      <td>61.000000</td>\n",
              "      <td>61.000000</td>\n",
              "      <td>61.000000</td>\n",
              "      <td>61.000000</td>\n",
              "      <td>61.000000</td>\n",
              "    </tr>\n",
              "    <tr>\n",
              "      <th>mean</th>\n",
              "      <td>31.000000</td>\n",
              "      <td>2.196721</td>\n",
              "      <td>0.967213</td>\n",
              "      <td>2.114754</td>\n",
              "      <td>1.393443</td>\n",
              "      <td>111.770492</td>\n",
              "      <td>611.230492</td>\n",
              "    </tr>\n",
              "    <tr>\n",
              "      <th>std</th>\n",
              "      <td>17.752934</td>\n",
              "      <td>0.945510</td>\n",
              "      <td>1.182754</td>\n",
              "      <td>1.367459</td>\n",
              "      <td>0.842193</td>\n",
              "      <td>86.265751</td>\n",
              "      <td>578.454698</td>\n",
              "    </tr>\n",
              "    <tr>\n",
              "      <th>min</th>\n",
              "      <td>1.000000</td>\n",
              "      <td>0.000000</td>\n",
              "      <td>0.000000</td>\n",
              "      <td>0.000000</td>\n",
              "      <td>0.000000</td>\n",
              "      <td>27.000000</td>\n",
              "      <td>114.310000</td>\n",
              "    </tr>\n",
              "    <tr>\n",
              "      <th>25%</th>\n",
              "      <td>16.000000</td>\n",
              "      <td>2.000000</td>\n",
              "      <td>0.000000</td>\n",
              "      <td>1.000000</td>\n",
              "      <td>1.000000</td>\n",
              "      <td>64.000000</td>\n",
              "      <td>285.000000</td>\n",
              "    </tr>\n",
              "    <tr>\n",
              "      <th>50%</th>\n",
              "      <td>31.000000</td>\n",
              "      <td>2.000000</td>\n",
              "      <td>1.000000</td>\n",
              "      <td>2.000000</td>\n",
              "      <td>1.000000</td>\n",
              "      <td>84.000000</td>\n",
              "      <td>400.000000</td>\n",
              "    </tr>\n",
              "    <tr>\n",
              "      <th>75%</th>\n",
              "      <td>46.000000</td>\n",
              "      <td>3.000000</td>\n",
              "      <td>1.000000</td>\n",
              "      <td>3.000000</td>\n",
              "      <td>2.000000</td>\n",
              "      <td>127.000000</td>\n",
              "      <td>695.000000</td>\n",
              "    </tr>\n",
              "    <tr>\n",
              "      <th>max</th>\n",
              "      <td>61.000000</td>\n",
              "      <td>4.000000</td>\n",
              "      <td>4.000000</td>\n",
              "      <td>6.000000</td>\n",
              "      <td>5.000000</td>\n",
              "      <td>550.000000</td>\n",
              "      <td>2800.000000</td>\n",
              "    </tr>\n",
              "  </tbody>\n",
              "</table>\n",
              "</div>\n",
              "      <button class=\"colab-df-convert\" onclick=\"convertToInteractive('df-63670660-c4e8-4af3-a641-7e2ea0fc7ef0')\"\n",
              "              title=\"Convert this dataframe to an interactive table.\"\n",
              "              style=\"display:none;\">\n",
              "        \n",
              "  <svg xmlns=\"http://www.w3.org/2000/svg\" height=\"24px\"viewBox=\"0 0 24 24\"\n",
              "       width=\"24px\">\n",
              "    <path d=\"M0 0h24v24H0V0z\" fill=\"none\"/>\n",
              "    <path d=\"M18.56 5.44l.94 2.06.94-2.06 2.06-.94-2.06-.94-.94-2.06-.94 2.06-2.06.94zm-11 1L8.5 8.5l.94-2.06 2.06-.94-2.06-.94L8.5 2.5l-.94 2.06-2.06.94zm10 10l.94 2.06.94-2.06 2.06-.94-2.06-.94-.94-2.06-.94 2.06-2.06.94z\"/><path d=\"M17.41 7.96l-1.37-1.37c-.4-.4-.92-.59-1.43-.59-.52 0-1.04.2-1.43.59L10.3 9.45l-7.72 7.72c-.78.78-.78 2.05 0 2.83L4 21.41c.39.39.9.59 1.41.59.51 0 1.02-.2 1.41-.59l7.78-7.78 2.81-2.81c.8-.78.8-2.07 0-2.86zM5.41 20L4 18.59l7.72-7.72 1.47 1.35L5.41 20z\"/>\n",
              "  </svg>\n",
              "      </button>\n",
              "      \n",
              "  <style>\n",
              "    .colab-df-container {\n",
              "      display:flex;\n",
              "      flex-wrap:wrap;\n",
              "      gap: 12px;\n",
              "    }\n",
              "\n",
              "    .colab-df-convert {\n",
              "      background-color: #E8F0FE;\n",
              "      border: none;\n",
              "      border-radius: 50%;\n",
              "      cursor: pointer;\n",
              "      display: none;\n",
              "      fill: #1967D2;\n",
              "      height: 32px;\n",
              "      padding: 0 0 0 0;\n",
              "      width: 32px;\n",
              "    }\n",
              "\n",
              "    .colab-df-convert:hover {\n",
              "      background-color: #E2EBFA;\n",
              "      box-shadow: 0px 1px 2px rgba(60, 64, 67, 0.3), 0px 1px 3px 1px rgba(60, 64, 67, 0.15);\n",
              "      fill: #174EA6;\n",
              "    }\n",
              "\n",
              "    [theme=dark] .colab-df-convert {\n",
              "      background-color: #3B4455;\n",
              "      fill: #D2E3FC;\n",
              "    }\n",
              "\n",
              "    [theme=dark] .colab-df-convert:hover {\n",
              "      background-color: #434B5C;\n",
              "      box-shadow: 0px 1px 3px 1px rgba(0, 0, 0, 0.15);\n",
              "      filter: drop-shadow(0px 1px 2px rgba(0, 0, 0, 0.3));\n",
              "      fill: #FFFFFF;\n",
              "    }\n",
              "  </style>\n",
              "\n",
              "      <script>\n",
              "        const buttonEl =\n",
              "          document.querySelector('#df-63670660-c4e8-4af3-a641-7e2ea0fc7ef0 button.colab-df-convert');\n",
              "        buttonEl.style.display =\n",
              "          google.colab.kernel.accessAllowed ? 'block' : 'none';\n",
              "\n",
              "        async function convertToInteractive(key) {\n",
              "          const element = document.querySelector('#df-63670660-c4e8-4af3-a641-7e2ea0fc7ef0');\n",
              "          const dataTable =\n",
              "            await google.colab.kernel.invokeFunction('convertToInteractive',\n",
              "                                                     [key], {});\n",
              "          if (!dataTable) return;\n",
              "\n",
              "          const docLinkHtml = 'Like what you see? Visit the ' +\n",
              "            '<a target=\"_blank\" href=https://colab.research.google.com/notebooks/data_table.ipynb>data table notebook</a>'\n",
              "            + ' to learn more about interactive tables.';\n",
              "          element.innerHTML = '';\n",
              "          dataTable['output_type'] = 'display_data';\n",
              "          await google.colab.output.renderOutput(dataTable, element);\n",
              "          const docLink = document.createElement('div');\n",
              "          docLink.innerHTML = docLinkHtml;\n",
              "          element.appendChild(docLink);\n",
              "        }\n",
              "      </script>\n",
              "    </div>\n",
              "  </div>\n",
              "  "
            ]
          },
          "metadata": {},
          "execution_count": 5
        }
      ]
    },
    {
      "cell_type": "code",
      "source": [
        "#histograma dos atributos numéricos\n",
        "df.hist(figsize=(15,10))\n",
        "plt.show()"
      ],
      "metadata": {
        "colab": {
          "base_uri": "https://localhost:8080/",
          "height": 607
        },
        "id": "gjFdr5nwYtux",
        "outputId": "da69566c-4978-4e49-f21e-95543cad8e5d"
      },
      "execution_count": 6,
      "outputs": [
        {
          "output_type": "display_data",
          "data": {
            "text/plain": [
              "<Figure size 1080x720 with 9 Axes>"
            ],
            "image/png": "[encoded data removed]"
          },
          "metadata": {
            "needs_background": "light"
          }
        }
      ]
    },
    {
      "cell_type": "code",
      "source": [
        "#matriz de dispersão para analisar a correlação entre os atributos numéricos\n",
        "atributos = [\"Dormitorio\",\"Suite\",\"Banheiro\",\"Vaga\",\"Area Util\",\"Valor de venda\"]\n",
        "scatter_matrix(df[atributos], figsize=(15,10));"
      ],
      "metadata": {
        "id": "ynSydenhftUh",
        "colab": {
          "base_uri": "https://localhost:8080/",
          "height": 617
        },
        "outputId": "f9377636-f899-4c15-ebe3-4b51b121b5da"
      },
      "execution_count": 7,
      "outputs": [
        {
          "output_type": "display_data",
          "data": {
            "text/plain": [
              "<Figure size 1080x720 with 36 Axes>"
            ],
            "image/png": "[encoded data removed]"
          },
          "metadata": {
            "needs_background": "light"
          }
        }
      ]
    },
    {
      "cell_type": "markdown",
      "source": [
        "[Voltar ao topo](#Topo)"
      ],
      "metadata": {
        "id": "lwFTqNj0OQEc"
      }
    },
    {
      "cell_type": "markdown",
      "source": [
        "<a name=\"Item-4\"></a>\n",
        "## 4. Lidar com os *outliers*\n",
        "Vamos avaliar se existem valores extremos (*outliers*) que devem ser retirados do conjunto de dados."
      ],
      "metadata": {
        "id": "ab1KnE0uouKD"
      }
    },
    {
      "cell_type": "code",
      "source": [
        "#Boxplot para visualizar os outliers\n",
        "df.boxplot('Valor de venda', figsize=(8,6));"
      ],
      "metadata": {
        "colab": {
          "base_uri": "https://localhost:8080/",
          "height": 374
        },
        "id": "vVKH-LwTpMT7",
        "outputId": "51dddffc-ea85-46f6-b950-ead78059e82b"
      },
      "execution_count": 8,
      "outputs": [
        {
          "output_type": "display_data",
          "data": {
            "text/plain": [
              "<Figure size 576x432 with 1 Axes>"
            ],
            "image/png": "[encoded data removed]"
          },
          "metadata": {
            "needs_background": "light"
          }
        }
      ]
    },
    {
      "cell_type": "markdown",
      "source": [
        "A partir do boxplot pode-se ver se há *outliers*. Caso haja, a seguinte função pode ser usada para removê-los:"
      ],
      "metadata": {
        "id": "3JCaug54cSTV"
      }
    },
    {
      "cell_type": "code",
      "source": [
        "#Função para encontrar os limites superior e inferior a fim de identificar e remover os outliers\n",
        "def interQuartile(x):\n",
        "  percentile25= x.quantile(0.25)\n",
        "  percentile75=x.quantile(0.75)\n",
        "  iqr=percentile75-percentile25\n",
        "  upperLimit= percentile75+1.5*iqr\n",
        "  lowerLimit= percentile25-1.5*iqr\n",
        "  return upperLimit, lowerLimit\n",
        "\n",
        "upper,lower = interQuartile(df['Valor de venda'])\n",
        "print(\"Limite inferior = \", lower, \"| Número de pontos abaixo do limite inferior = \", (df['Valor de venda'] < lower).sum())\n",
        "print(\"Limite inferior = \", upper, \"| Número de pontos acima do limite superior = \", (df['Valor de venda'] > upper).sum())"
      ],
      "metadata": {
        "colab": {
          "base_uri": "https://localhost:8080/"
        },
        "id": "PTnTleaJcoBt",
        "outputId": "e146645c-ee67-4c85-d2f4-b7968d06c5fe"
      },
      "execution_count": 9,
      "outputs": [
        {
          "output_type": "stream",
          "name": "stdout",
          "text": [
            "Limite inferior =  -330.0 | Número de pontos abaixo do limite inferior =  0\n",
            "Limite inferior =  1310.0 | Número de pontos acima do limite superior =  5\n"
          ]
        }
      ]
    },
    {
      "cell_type": "markdown",
      "source": [
        "[Voltar ao topo](#Topo)"
      ],
      "metadata": {
        "id": "A0P9nnaIHhVB"
      }
    },
    {
      "cell_type": "markdown",
      "source": [
        "<a name=\"Item-5\"></a>\n",
        "## 5. Limpar os dados\n",
        "Já identificamos algumas características que não nos interessam e valores que devem ser removidos (os *outliers*). Vamos, então, fazer a limpeza dos dados."
      ],
      "metadata": {
        "id": "lJzVPjnrdJ7i"
      }
    },
    {
      "cell_type": "code",
      "source": [
        "#remover as caracaterísticas que não interessam\n",
        "ndf = df.drop([\"Imovel\", \"Cidade\", \"Bairro\", \"Tipo do imovel\"], axis=1)\n",
        "ndf.head()"
      ],
      "metadata": {
        "colab": {
          "base_uri": "https://localhost:8080/",
          "height": 204
        },
        "id": "G9dAkX3PjDkV",
        "outputId": "79c2120d-a597-407f-e308-964d2a948eb5"
      },
      "execution_count": 10,
      "outputs": [
        {
          "output_type": "execute_result",
          "data": {
            "text/plain": [
              "   Dormitorio  Suite  Banheiro  Vaga  Area Util  Valor de venda\n",
              "0           2      0         1     1         74           300.0\n",
              "1           2      1         1     1        100           470.0\n",
              "2           2      0         2     1         83           350.0\n",
              "3           1      0         1     1         35           175.0\n",
              "4           2      1         2     1         68           470.0"
            ],
            "text/html": [
              "\n",
              "  <div id=\"df-8c611505-49ca-40e7-bf05-7415a9f7a6a5\">\n",
              "    <div class=\"colab-df-container\">\n",
              "      <div>\n",
              "<style scoped>\n",
              "    .dataframe tbody tr th:only-of-type {\n",
              "        vertical-align: middle;\n",
              "    }\n",
              "\n",
              "    .dataframe tbody tr th {\n",
              "        vertical-align: top;\n",
              "    }\n",
              "\n",
              "    .dataframe thead th {\n",
              "        text-align: right;\n",
              "    }\n",
              "</style>\n",
              "<table border=\"1\" class=\"dataframe\">\n",
              "  <thead>\n",
              "    <tr style=\"text-align: right;\">\n",
              "      <th></th>\n",
              "      <th>Dormitorio</th>\n",
              "      <th>Suite</th>\n",
              "      <th>Banheiro</th>\n",
              "      <th>Vaga</th>\n",
              "      <th>Area Util</th>\n",
              "      <th>Valor de venda</th>\n",
              "    </tr>\n",
              "  </thead>\n",
              "  <tbody>\n",
              "    <tr>\n",
              "      <th>0</th>\n",
              "      <td>2</td>\n",
              "      <td>0</td>\n",
              "      <td>1</td>\n",
              "      <td>1</td>\n",
              "      <td>74</td>\n",
              "      <td>300.0</td>\n",
              "    </tr>\n",
              "    <tr>\n",
              "      <th>1</th>\n",
              "      <td>2</td>\n",
              "      <td>1</td>\n",
              "      <td>1</td>\n",
              "      <td>1</td>\n",
              "      <td>100</td>\n",
              "      <td>470.0</td>\n",
              "    </tr>\n",
              "    <tr>\n",
              "      <th>2</th>\n",
              "      <td>2</td>\n",
              "      <td>0</td>\n",
              "      <td>2</td>\n",
              "      <td>1</td>\n",
              "      <td>83</td>\n",
              "      <td>350.0</td>\n",
              "    </tr>\n",
              "    <tr>\n",
              "      <th>3</th>\n",
              "      <td>1</td>\n",
              "      <td>0</td>\n",
              "      <td>1</td>\n",
              "      <td>1</td>\n",
              "      <td>35</td>\n",
              "      <td>175.0</td>\n",
              "    </tr>\n",
              "    <tr>\n",
              "      <th>4</th>\n",
              "      <td>2</td>\n",
              "      <td>1</td>\n",
              "      <td>2</td>\n",
              "      <td>1</td>\n",
              "      <td>68</td>\n",
              "      <td>470.0</td>\n",
              "    </tr>\n",
              "  </tbody>\n",
              "</table>\n",
              "</div>\n",
              "      <button class=\"colab-df-convert\" onclick=\"convertToInteractive('df-8c611505-49ca-40e7-bf05-7415a9f7a6a5')\"\n",
              "              title=\"Convert this dataframe to an interactive table.\"\n",
              "              style=\"display:none;\">\n",
              "        \n",
              "  <svg xmlns=\"http://www.w3.org/2000/svg\" height=\"24px\"viewBox=\"0 0 24 24\"\n",
              "       width=\"24px\">\n",
              "    <path d=\"M0 0h24v24H0V0z\" fill=\"none\"/>\n",
              "    <path d=\"M18.56 5.44l.94 2.06.94-2.06 2.06-.94-2.06-.94-.94-2.06-.94 2.06-2.06.94zm-11 1L8.5 8.5l.94-2.06 2.06-.94-2.06-.94L8.5 2.5l-.94 2.06-2.06.94zm10 10l.94 2.06.94-2.06 2.06-.94-2.06-.94-.94-2.06-.94 2.06-2.06.94z\"/><path d=\"M17.41 7.96l-1.37-1.37c-.4-.4-.92-.59-1.43-.59-.52 0-1.04.2-1.43.59L10.3 9.45l-7.72 7.72c-.78.78-.78 2.05 0 2.83L4 21.41c.39.39.9.59 1.41.59.51 0 1.02-.2 1.41-.59l7.78-7.78 2.81-2.81c.8-.78.8-2.07 0-2.86zM5.41 20L4 18.59l7.72-7.72 1.47 1.35L5.41 20z\"/>\n",
              "  </svg>\n",
              "      </button>\n",
              "      \n",
              "  <style>\n",
              "    .colab-df-container {\n",
              "      display:flex;\n",
              "      flex-wrap:wrap;\n",
              "      gap: 12px;\n",
              "    }\n",
              "\n",
              "    .colab-df-convert {\n",
              "      background-color: #E8F0FE;\n",
              "      border: none;\n",
              "      border-radius: 50%;\n",
              "      cursor: pointer;\n",
              "      display: none;\n",
              "      fill: #1967D2;\n",
              "      height: 32px;\n",
              "      padding: 0 0 0 0;\n",
              "      width: 32px;\n",
              "    }\n",
              "\n",
              "    .colab-df-convert:hover {\n",
              "      background-color: #E2EBFA;\n",
              "      box-shadow: 0px 1px 2px rgba(60, 64, 67, 0.3), 0px 1px 3px 1px rgba(60, 64, 67, 0.15);\n",
              "      fill: #174EA6;\n",
              "    }\n",
              "\n",
              "    [theme=dark] .colab-df-convert {\n",
              "      background-color: #3B4455;\n",
              "      fill: #D2E3FC;\n",
              "    }\n",
              "\n",
              "    [theme=dark] .colab-df-convert:hover {\n",
              "      background-color: #434B5C;\n",
              "      box-shadow: 0px 1px 3px 1px rgba(0, 0, 0, 0.15);\n",
              "      filter: drop-shadow(0px 1px 2px rgba(0, 0, 0, 0.3));\n",
              "      fill: #FFFFFF;\n",
              "    }\n",
              "  </style>\n",
              "\n",
              "      <script>\n",
              "        const buttonEl =\n",
              "          document.querySelector('#df-8c611505-49ca-40e7-bf05-7415a9f7a6a5 button.colab-df-convert');\n",
              "        buttonEl.style.display =\n",
              "          google.colab.kernel.accessAllowed ? 'block' : 'none';\n",
              "\n",
              "        async function convertToInteractive(key) {\n",
              "          const element = document.querySelector('#df-8c611505-49ca-40e7-bf05-7415a9f7a6a5');\n",
              "          const dataTable =\n",
              "            await google.colab.kernel.invokeFunction('convertToInteractive',\n",
              "                                                     [key], {});\n",
              "          if (!dataTable) return;\n",
              "\n",
              "          const docLinkHtml = 'Like what you see? Visit the ' +\n",
              "            '<a target=\"_blank\" href=https://colab.research.google.com/notebooks/data_table.ipynb>data table notebook</a>'\n",
              "            + ' to learn more about interactive tables.';\n",
              "          element.innerHTML = '';\n",
              "          dataTable['output_type'] = 'display_data';\n",
              "          await google.colab.output.renderOutput(dataTable, element);\n",
              "          const docLink = document.createElement('div');\n",
              "          docLink.innerHTML = docLinkHtml;\n",
              "          element.appendChild(docLink);\n",
              "        }\n",
              "      </script>\n",
              "    </div>\n",
              "  </div>\n",
              "  "
            ]
          },
          "metadata": {},
          "execution_count": 10
        }
      ]
    },
    {
      "cell_type": "code",
      "source": [
        "#remover as instâncias dos valores acima ou abaixo dos limites de outlier\n",
        "#esta etapa deve ser executada até que não haja mais outliers\n",
        "ndf.drop(ndf.index[ndf['Valor de venda'] > upper], inplace=True)\n",
        "ndf.drop(ndf.index[ndf['Valor de venda'] < lower], inplace=True)\n",
        "ndf.describe()"
      ],
      "metadata": {
        "colab": {
          "base_uri": "https://localhost:8080/",
          "height": 297
        },
        "id": "2N-0JOKSqkgO",
        "outputId": "04670b3b-1bb6-4427-c280-5e552528b915"
      },
      "execution_count": 18,
      "outputs": [
        {
          "output_type": "execute_result",
          "data": {
            "text/plain": [
              "       Dormitorio      Suite   Banheiro       Vaga   Area Util  Valor de venda\n",
              "count   47.000000  47.000000  47.000000  47.000000   47.000000       47.000000\n",
              "mean     1.893617   0.446809   1.659574   1.085106   77.382979      361.448085\n",
              "std      0.633625   0.582667   0.730592   0.408059   28.524248      144.902147\n",
              "min      1.000000   0.000000   1.000000   0.000000   27.000000      114.310000\n",
              "25%      1.500000   0.000000   1.000000   1.000000   57.500000      244.000000\n",
              "50%      2.000000   0.000000   2.000000   1.000000   76.000000      330.000000\n",
              "75%      2.000000   1.000000   2.000000   1.000000   89.500000      455.000000\n",
              "max      3.000000   2.000000   3.000000   2.000000  175.000000      720.000000"
            ],
            "text/html": [
              "\n",
              "  <div id=\"df-3e51876b-5c6e-49ee-8601-e6b3035c6ad7\">\n",
              "    <div class=\"colab-df-container\">\n",
              "      <div>\n",
              "<style scoped>\n",
              "    .dataframe tbody tr th:only-of-type {\n",
              "        vertical-align: middle;\n",
              "    }\n",
              "\n",
              "    .dataframe tbody tr th {\n",
              "        vertical-align: top;\n",
              "    }\n",
              "\n",
              "    .dataframe thead th {\n",
              "        text-align: right;\n",
              "    }\n",
              "</style>\n",
              "<table border=\"1\" class=\"dataframe\">\n",
              "  <thead>\n",
              "    <tr style=\"text-align: right;\">\n",
              "      <th></th>\n",
              "      <th>Dormitorio</th>\n",
              "      <th>Suite</th>\n",
              "      <th>Banheiro</th>\n",
              "      <th>Vaga</th>\n",
              "      <th>Area Util</th>\n",
              "      <th>Valor de venda</th>\n",
              "    </tr>\n",
              "  </thead>\n",
              "  <tbody>\n",
              "    <tr>\n",
              "      <th>count</th>\n",
              "      <td>47.000000</td>\n",
              "      <td>47.000000</td>\n",
              "      <td>47.000000</td>\n",
              "      <td>47.000000</td>\n",
              "      <td>47.000000</td>\n",
              "      <td>47.000000</td>\n",
              "    </tr>\n",
              "    <tr>\n",
              "      <th>mean</th>\n",
              "      <td>1.893617</td>\n",
              "      <td>0.446809</td>\n",
              "      <td>1.659574</td>\n",
              "      <td>1.085106</td>\n",
              "      <td>77.382979</td>\n",
              "      <td>361.448085</td>\n",
              "    </tr>\n",
              "    <tr>\n",
              "      <th>std</th>\n",
              "      <td>0.633625</td>\n",
              "      <td>0.582667</td>\n",
              "      <td>0.730592</td>\n",
              "      <td>0.408059</td>\n",
              "      <td>28.524248</td>\n",
              "      <td>144.902147</td>\n",
              "    </tr>\n",
              "    <tr>\n",
              "      <th>min</th>\n",
              "      <td>1.000000</td>\n",
              "      <td>0.000000</td>\n",
              "      <td>1.000000</td>\n",
              "      <td>0.000000</td>\n",
              "      <td>27.000000</td>\n",
              "      <td>114.310000</td>\n",
              "    </tr>\n",
              "    <tr>\n",
              "      <th>25%</th>\n",
              "      <td>1.500000</td>\n",
              "      <td>0.000000</td>\n",
              "      <td>1.000000</td>\n",
              "      <td>1.000000</td>\n",
              "      <td>57.500000</td>\n",
              "      <td>244.000000</td>\n",
              "    </tr>\n",
              "    <tr>\n",
              "      <th>50%</th>\n",
              "      <td>2.000000</td>\n",
              "      <td>0.000000</td>\n",
              "      <td>2.000000</td>\n",
              "      <td>1.000000</td>\n",
              "      <td>76.000000</td>\n",
              "      <td>330.000000</td>\n",
              "    </tr>\n",
              "    <tr>\n",
              "      <th>75%</th>\n",
              "      <td>2.000000</td>\n",
              "      <td>1.000000</td>\n",
              "      <td>2.000000</td>\n",
              "      <td>1.000000</td>\n",
              "      <td>89.500000</td>\n",
              "      <td>455.000000</td>\n",
              "    </tr>\n",
              "    <tr>\n",
              "      <th>max</th>\n",
              "      <td>3.000000</td>\n",
              "      <td>2.000000</td>\n",
              "      <td>3.000000</td>\n",
              "      <td>2.000000</td>\n",
              "      <td>175.000000</td>\n",
              "      <td>720.000000</td>\n",
              "    </tr>\n",
              "  </tbody>\n",
              "</table>\n",
              "</div>\n",
              "      <button class=\"colab-df-convert\" onclick=\"convertToInteractive('df-3e51876b-5c6e-49ee-8601-e6b3035c6ad7')\"\n",
              "              title=\"Convert this dataframe to an interactive table.\"\n",
              "              style=\"display:none;\">\n",
              "        \n",
              "  <svg xmlns=\"http://www.w3.org/2000/svg\" height=\"24px\"viewBox=\"0 0 24 24\"\n",
              "       width=\"24px\">\n",
              "    <path d=\"M0 0h24v24H0V0z\" fill=\"none\"/>\n",
              "    <path d=\"M18.56 5.44l.94 2.06.94-2.06 2.06-.94-2.06-.94-.94-2.06-.94 2.06-2.06.94zm-11 1L8.5 8.5l.94-2.06 2.06-.94-2.06-.94L8.5 2.5l-.94 2.06-2.06.94zm10 10l.94 2.06.94-2.06 2.06-.94-2.06-.94-.94-2.06-.94 2.06-2.06.94z\"/><path d=\"M17.41 7.96l-1.37-1.37c-.4-.4-.92-.59-1.43-.59-.52 0-1.04.2-1.43.59L10.3 9.45l-7.72 7.72c-.78.78-.78 2.05 0 2.83L4 21.41c.39.39.9.59 1.41.59.51 0 1.02-.2 1.41-.59l7.78-7.78 2.81-2.81c.8-.78.8-2.07 0-2.86zM5.41 20L4 18.59l7.72-7.72 1.47 1.35L5.41 20z\"/>\n",
              "  </svg>\n",
              "      </button>\n",
              "      \n",
              "  <style>\n",
              "    .colab-df-container {\n",
              "      display:flex;\n",
              "      flex-wrap:wrap;\n",
              "      gap: 12px;\n",
              "    }\n",
              "\n",
              "    .colab-df-convert {\n",
              "      background-color: #E8F0FE;\n",
              "      border: none;\n",
              "      border-radius: 50%;\n",
              "      cursor: pointer;\n",
              "      display: none;\n",
              "      fill: #1967D2;\n",
              "      height: 32px;\n",
              "      padding: 0 0 0 0;\n",
              "      width: 32px;\n",
              "    }\n",
              "\n",
              "    .colab-df-convert:hover {\n",
              "      background-color: #E2EBFA;\n",
              "      box-shadow: 0px 1px 2px rgba(60, 64, 67, 0.3), 0px 1px 3px 1px rgba(60, 64, 67, 0.15);\n",
              "      fill: #174EA6;\n",
              "    }\n",
              "\n",
              "    [theme=dark] .colab-df-convert {\n",
              "      background-color: #3B4455;\n",
              "      fill: #D2E3FC;\n",
              "    }\n",
              "\n",
              "    [theme=dark] .colab-df-convert:hover {\n",
              "      background-color: #434B5C;\n",
              "      box-shadow: 0px 1px 3px 1px rgba(0, 0, 0, 0.15);\n",
              "      filter: drop-shadow(0px 1px 2px rgba(0, 0, 0, 0.3));\n",
              "      fill: #FFFFFF;\n",
              "    }\n",
              "  </style>\n",
              "\n",
              "      <script>\n",
              "        const buttonEl =\n",
              "          document.querySelector('#df-3e51876b-5c6e-49ee-8601-e6b3035c6ad7 button.colab-df-convert');\n",
              "        buttonEl.style.display =\n",
              "          google.colab.kernel.accessAllowed ? 'block' : 'none';\n",
              "\n",
              "        async function convertToInteractive(key) {\n",
              "          const element = document.querySelector('#df-3e51876b-5c6e-49ee-8601-e6b3035c6ad7');\n",
              "          const dataTable =\n",
              "            await google.colab.kernel.invokeFunction('convertToInteractive',\n",
              "                                                     [key], {});\n",
              "          if (!dataTable) return;\n",
              "\n",
              "          const docLinkHtml = 'Like what you see? Visit the ' +\n",
              "            '<a target=\"_blank\" href=https://colab.research.google.com/notebooks/data_table.ipynb>data table notebook</a>'\n",
              "            + ' to learn more about interactive tables.';\n",
              "          element.innerHTML = '';\n",
              "          dataTable['output_type'] = 'display_data';\n",
              "          await google.colab.output.renderOutput(dataTable, element);\n",
              "          const docLink = document.createElement('div');\n",
              "          docLink.innerHTML = docLinkHtml;\n",
              "          element.appendChild(docLink);\n",
              "        }\n",
              "      </script>\n",
              "    </div>\n",
              "  </div>\n",
              "  "
            ]
          },
          "metadata": {},
          "execution_count": 18
        }
      ]
    },
    {
      "cell_type": "code",
      "source": [
        "#verificar se ainda há outliers\n",
        "#se houver, executar a etapa anterior novamente\n",
        "upper,lower = interQuartile(ndf['Valor de venda'])\n",
        "print(\"Limite inferior = \", lower, \"| Número de pontos abaixo do limite inferior = \", (ndf['Valor de venda'] < lower).sum())\n",
        "print(\"Limite inferior = \", upper, \"| Número de pontos acima do limite superior = \", (ndf['Valor de venda'] > upper).sum())"
      ],
      "metadata": {
        "colab": {
          "base_uri": "https://localhost:8080/"
        },
        "id": "OgcQGg5Zt4JK",
        "outputId": "81bc0d1b-59cc-4331-de62-710d0d342dfe"
      },
      "execution_count": 19,
      "outputs": [
        {
          "output_type": "stream",
          "name": "stdout",
          "text": [
            "Limite inferior =  -72.5 | Número de pontos abaixo do limite inferior =  0\n",
            "Limite inferior =  771.5 | Número de pontos acima do limite superior =  0\n"
          ]
        }
      ]
    },
    {
      "cell_type": "markdown",
      "source": [
        "[Voltar ao topo](#Topo)"
      ],
      "metadata": {
        "id": "IK7twzg3HkAG"
      }
    },
    {
      "cell_type": "markdown",
      "source": [
        "<a name=\"Item-6\"></a>\n",
        "## 6. Dividir os dados em um conjunto de treinamento e um de teste\n",
        "Nesta etapa, as variáveis independentes e dependentes são definidas primeiro e, em seguida, o conjunto de dados é dividido em dados de treinamento e teste. Uma proporção de 80-20 é usada nesta implementação para treinamento e teste, respectivamente."
      ],
      "metadata": {
        "id": "TSW8achC5A7i"
      }
    },
    {
      "cell_type": "code",
      "source": [
        "#Definir as variáveis dependentes e independentes\n",
        "y = ndf['Valor de venda'] #a variável dependente é \"Valor de venda\"\"\n",
        "x = ndf.drop(['Valor de venda'], axis=1)\n",
        "#dividindo os dados\n",
        "x_train, x_test, y_train, y_test = train_test_split(x,y, test_size=0.2)"
      ],
      "metadata": {
        "id": "5Udt94126W4t"
      },
      "execution_count": 20,
      "outputs": []
    },
    {
      "cell_type": "markdown",
      "source": [
        "[Voltar ao topo](#Topo)"
      ],
      "metadata": {
        "id": "xY_ZG5fiHmP1"
      }
    },
    {
      "cell_type": "markdown",
      "source": [
        "<a name=\"Item-7\"></a>\n",
        "## 7. Ajustar um modelo de regressão linear\n",
        "Nesta etapa, um modelo de regressão linear é criado e ele é ajustado com a ajuda dos dados de treinamento para obter os coeficientes de regressão."
      ],
      "metadata": {
        "id": "w9FteMJawWvl"
      }
    },
    {
      "cell_type": "code",
      "source": [
        "#Implementar a regressão linear usando o Scikit-Learn\n",
        "lin_reg = LinearRegression()\n",
        "lin_reg.fit(x_train,y_train)\n",
        "\n",
        "#imprimir os coeficientes de regressão\n",
        "print(\"Intercepto = \", lin_reg.intercept_)\n",
        "print(\"Coeficientes = \", lin_reg.coef_)"
      ],
      "metadata": {
        "colab": {
          "base_uri": "https://localhost:8080/"
        },
        "id": "lIXpYlg4w5_Z",
        "outputId": "c2a9536f-24e8-437f-e3b2-49b3409c66cf"
      },
      "execution_count": 21,
      "outputs": [
        {
          "output_type": "stream",
          "name": "stdout",
          "text": [
            "Intercepto =  18.120069598141697\n",
            "Coeficientes =  [  5.97223847  76.40706201  13.89259933 102.07417271   2.21355849]\n"
          ]
        }
      ]
    },
    {
      "cell_type": "code",
      "source": [
        "#Usar o pacote Statsmodels para obter o modelo\n",
        "x_trainc = sm.add_constant(x_train)\n",
        "lin_model = sm.OLS(y_train, x_trainc)\n",
        "res = lin_model.fit()\n",
        "print(res.summary())"
      ],
      "metadata": {
        "colab": {
          "base_uri": "https://localhost:8080/"
        },
        "id": "Ojss67bN17V6",
        "outputId": "781eb49c-d252-4708-f138-6d278bf6607e"
      },
      "execution_count": 22,
      "outputs": [
        {
          "output_type": "stream",
          "name": "stdout",
          "text": [
            "                            OLS Regression Results                            \n",
            "==============================================================================\n",
            "Dep. Variable:         Valor de venda   R-squared:                       0.698\n",
            "Model:                            OLS   Adj. R-squared:                  0.650\n",
            "Method:                 Least Squares   F-statistic:                     14.35\n",
            "Date:                Fri, 09 Sep 2022   Prob (F-statistic):           2.69e-07\n",
            "Time:                        19:40:48   Log-Likelihood:                -214.56\n",
            "No. Observations:                  37   AIC:                             441.1\n",
            "Df Residuals:                      31   BIC:                             450.8\n",
            "Df Model:                           5                                         \n",
            "Covariance Type:            nonrobust                                         \n",
            "==============================================================================\n",
            "                 coef    std err          t      P>|t|      [0.025      0.975]\n",
            "------------------------------------------------------------------------------\n",
            "const         18.1201     60.812      0.298      0.768    -105.906     142.146\n",
            "Dormitorio     5.9722     32.518      0.184      0.855     -60.349      72.294\n",
            "Suite         76.4071     34.260      2.230      0.033       6.534     146.280\n",
            "Banheiro      13.8926     31.926      0.435      0.666     -51.221      79.006\n",
            "Vaga         102.0742     42.187      2.420      0.022      16.034     188.115\n",
            "Area Util      2.2136      0.778      2.844      0.008       0.626       3.801\n",
            "==============================================================================\n",
            "Omnibus:                        0.192   Durbin-Watson:                   2.011\n",
            "Prob(Omnibus):                  0.908   Jarque-Bera (JB):                0.001\n",
            "Skew:                           0.003   Prob(JB):                         1.00\n",
            "Kurtosis:                       2.976   Cond. No.                         397.\n",
            "==============================================================================\n",
            "\n",
            "Notes:\n",
            "[1] Standard Errors assume that the covariance matrix of the errors is correctly specified.\n"
          ]
        },
        {
          "output_type": "stream",
          "name": "stderr",
          "text": [
            "/usr/local/lib/python3.7/dist-packages/statsmodels/tsa/tsatools.py:142: FutureWarning: In a future version of pandas all arguments of concat except for the argument 'objs' will be keyword-only\n",
            "  x = pd.concat(x[::order], 1)\n"
          ]
        }
      ]
    },
    {
      "cell_type": "markdown",
      "source": [
        "Percebemos que, tanto no *Scikit-Learn* quanto no *Statsmodels*, os coeficientes do modelo são os mesmos.\n",
        "Contudo, o *Statsmodels* fornece um sumário mais completo dos resultados para o modelo.\n",
        "\n",
        "Pela avaliação dos *valores-P* (P>|t|), verificamos que os atributos \"Dormitorio\", \"Suite\", e \"Banheiro\" não têm significância estatística para a previsão do \"Valor de venda\". Portanto, podemos optar por criar um novo modelo sem eles."
      ],
      "metadata": {
        "id": "Us8Gv8C-F_4L"
      }
    },
    {
      "cell_type": "code",
      "source": [
        "#Novo modelo sem os atributos com baixa significância estatística, usando o Statsmodels\n",
        "x_trainc_new = x_trainc.drop([\"Dormitorio\", \"Suite\", \"Banheiro\"], axis=1)\n",
        "lin_model_new = sm.OLS(y_train, x_trainc_new)\n",
        "res_new = lin_model_new.fit()\n",
        "print(res_new.summary())"
      ],
      "metadata": {
        "colab": {
          "base_uri": "https://localhost:8080/"
        },
        "id": "NaXnCnQkEyJS",
        "outputId": "e97c3353-a2d8-4df1-f2cb-e72430f8668d"
      },
      "execution_count": 23,
      "outputs": [
        {
          "output_type": "stream",
          "name": "stdout",
          "text": [
            "                            OLS Regression Results                            \n",
            "==============================================================================\n",
            "Dep. Variable:         Valor de venda   R-squared:                       0.623\n",
            "Model:                            OLS   Adj. R-squared:                  0.601\n",
            "Method:                 Least Squares   F-statistic:                     28.07\n",
            "Date:                Fri, 09 Sep 2022   Prob (F-statistic):           6.33e-08\n",
            "Time:                        19:41:11   Log-Likelihood:                -218.68\n",
            "No. Observations:                  37   AIC:                             443.4\n",
            "Df Residuals:                      34   BIC:                             448.2\n",
            "Df Model:                           2                                         \n",
            "Covariance Type:            nonrobust                                         \n",
            "==============================================================================\n",
            "                 coef    std err          t      P>|t|      [0.025      0.975]\n",
            "------------------------------------------------------------------------------\n",
            "const        -17.3935     55.776     -0.312      0.757    -130.744      95.957\n",
            "Vaga         145.1429     41.194      3.523      0.001      61.426     228.860\n",
            "Area Util      2.8825      0.655      4.398      0.000       1.550       4.214\n",
            "==============================================================================\n",
            "Omnibus:                        1.686   Durbin-Watson:                   2.092\n",
            "Prob(Omnibus):                  0.430   Jarque-Bera (JB):                0.849\n",
            "Skew:                           0.335   Prob(JB):                        0.654\n",
            "Kurtosis:                       3.320   Cond. No.                         337.\n",
            "==============================================================================\n",
            "\n",
            "Notes:\n",
            "[1] Standard Errors assume that the covariance matrix of the errors is correctly specified.\n"
          ]
        }
      ]
    },
    {
      "cell_type": "code",
      "source": [
        "#Novo modelo sem os atributos com baixa significância estatística, usando o Scikit-Learn\n",
        "x_train_new = x_train.drop([\"Dormitorio\", \"Suite\", \"Banheiro\"], axis=1)\n",
        "lin_reg_new = LinearRegression()\n",
        "lin_reg_new.fit(x_train_new,y_train)\n",
        "#imprimir os coeficientes de regressão\n",
        "print(\"Intercepto = \", lin_reg_new.intercept_)\n",
        "print(\"Coeficientes = \", lin_reg_new.coef_)"
      ],
      "metadata": {
        "colab": {
          "base_uri": "https://localhost:8080/"
        },
        "id": "mF67kwrYfYBv",
        "outputId": "c459676c-18f3-4c4b-f3a2-90a181cf5cda"
      },
      "execution_count": 24,
      "outputs": [
        {
          "output_type": "stream",
          "name": "stdout",
          "text": [
            "Intercepto =  -17.393474263958296\n",
            "Coeficientes =  [145.14285939   2.88248386]\n"
          ]
        }
      ]
    },
    {
      "cell_type": "markdown",
      "source": [
        "[Voltar ao topo](#Topo)"
      ],
      "metadata": {
        "id": "YoL_97KlHpkG"
      }
    },
    {
      "cell_type": "markdown",
      "source": [
        "<a name=\"Item-8\"></a>\n",
        "## 8. Aplicar o modelo no conjunto de teste e fazer uma previsão"
      ],
      "metadata": {
        "id": "lwvCYSJMKFII"
      }
    },
    {
      "cell_type": "code",
      "source": [
        "#Fazer uma previsão para os dados de teste usando o modelo do Scikit-Learn\n",
        "x_test_new = x_test.drop([\"Dormitorio\", \"Suite\", \"Banheiro\"], axis=1)\n",
        "y_pred = lin_reg_new.predict(x_test_new)\n",
        "print(y_pred)"
      ],
      "metadata": {
        "colab": {
          "base_uri": "https://localhost:8080/"
        },
        "id": "z1we-PjRKYeK",
        "outputId": "e13fc94e-bf9c-42ca-b471-7fdae0322269"
      },
      "execution_count": 25,
      "outputs": [
        {
          "output_type": "stream",
          "name": "stdout",
          "text": [
            "[519.76719022 369.87802945 292.0509652  228.63632026 228.63632026\n",
            "  86.37594473 312.22835223 268.99109431 286.28599748 263.22612659]\n"
          ]
        }
      ]
    },
    {
      "cell_type": "code",
      "source": [
        "#Fazer uma previsão para os dados de teste usando o modelo do Statsmodels\n",
        "#x_test_new = sm.add_constant(x_test_new)\n",
        "x_testc_new = sm.add_constant(x_test_new)\n",
        "y_pred_new = res_new.predict(x_testc_new)\n",
        "print(y_pred_new)\n",
        "print(y_test)"
      ],
      "metadata": {
        "colab": {
          "base_uri": "https://localhost:8080/"
        },
        "id": "rSAZ1bHjSNFH",
        "outputId": "9c48b339-a791-41ad-b891-ebf56afa5880"
      },
      "execution_count": 27,
      "outputs": [
        {
          "output_type": "stream",
          "name": "stdout",
          "text": [
            "40    519.767190\n",
            "45    369.878029\n",
            "17    292.050965\n",
            "3     228.636320\n",
            "10    228.636320\n",
            "5      86.375945\n",
            "6     312.228352\n",
            "7     268.991094\n",
            "50    286.285997\n",
            "18    263.226127\n",
            "dtype: float64\n",
            "40    450.00\n",
            "45    390.00\n",
            "17    400.00\n",
            "3     175.00\n",
            "10    175.00\n",
            "5     175.00\n",
            "6     299.00\n",
            "7     231.75\n",
            "50    260.00\n",
            "18    220.00\n",
            "Name: Valor de venda, dtype: float64\n"
          ]
        },
        {
          "output_type": "stream",
          "name": "stderr",
          "text": [
            "/usr/local/lib/python3.7/dist-packages/statsmodels/tsa/tsatools.py:142: FutureWarning: In a future version of pandas all arguments of concat except for the argument 'objs' will be keyword-only\n",
            "  x = pd.concat(x[::order], 1)\n"
          ]
        }
      ]
    },
    {
      "cell_type": "markdown",
      "source": [
        "[Voltar ao topo](#Topo)"
      ],
      "metadata": {
        "id": "8xIGOIXCHr1b"
      }
    },
    {
      "cell_type": "markdown",
      "source": [
        "<a name=\"Item-9\"></a>\n",
        "## 9. Avaliar o desempenho do modelo"
      ],
      "metadata": {
        "id": "d5GLVa6gs600"
      }
    },
    {
      "cell_type": "code",
      "source": [
        "#Calcular a raiz do erro quadrático médio (RMSE), que dá uma ideia da quantidade de erros gerados pelo modelo\n",
        "lin_rmse = mean_squared_error(y_test, y_pred_new, squared=False)\n",
        "\n",
        "#Calcular o coeficiente de determinação do modelo (quanto mais próximo de 1, melhor)\n",
        "lin_r2 = r2_score(y_test, y_pred_new)\n",
        "\n",
        "print(\"RMSE: %.2f\" % lin_rmse)\n",
        "print(\"R2 : %.2f\" % lin_r2)"
      ],
      "metadata": {
        "colab": {
          "base_uri": "https://localhost:8080/"
        },
        "id": "Xfho9pVd1tRT",
        "outputId": "d8890597-7506-4e36-cd4c-e2afd047e58d"
      },
      "execution_count": 28,
      "outputs": [
        {
          "output_type": "stream",
          "name": "stdout",
          "text": [
            "RMSE: 58.87\n",
            "R2 : 0.64\n"
          ]
        }
      ]
    },
    {
      "cell_type": "code",
      "source": [
        "#Plotar gráfico do valor previsto vs o valor real\n",
        "x = np.arange(len(y_test))\n",
        "plt.plot(x, y_pred_new, label = \"Valor de venda previsto\", color = 'r')\n",
        "plt.plot(x, y_test, label = \"Valor de venda real\", color = 'b')\n",
        "plt.legend()\n",
        "plt.show()"
      ],
      "metadata": {
        "colab": {
          "base_uri": "https://localhost:8080/",
          "height": 265
        },
        "id": "Cn5bbwRsOjwK",
        "outputId": "2cde6a38-61ae-4b37-e323-115dacf1d11c"
      },
      "execution_count": 29,
      "outputs": [
        {
          "output_type": "display_data",
          "data": {
            "text/plain": [
              "<Figure size 432x288 with 1 Axes>"
            ],
            "image/png": "[encoded data removed]"
          },
          "metadata": {
            "needs_background": "light"
          }
        }
      ]
    },
    {
      "cell_type": "markdown",
      "source": [
        "[Voltar ao topo](#Topo)"
      ],
      "metadata": {
        "id": "NdzFnFVBHt11"
      }
    },
    {
      "cell_type": "markdown",
      "source": [
        "<a name=\"Item-10\"></a>\n",
        "## 10. Criar uma interface para testar o modelo usando o Gradio"
      ],
      "metadata": {
        "id": "F5ka5Rtg4kCp"
      }
    },
    {
      "cell_type": "code",
      "source": [
        "#function to predict the input hours\n",
        "def predict_venda(Vaga, Area_util):\n",
        "    X = np.array([Vaga, Area_util]) #entrada do modelo \n",
        "    pred_venda = lin_reg_new.predict(X.reshape(1,-1)) #previsão\n",
        "    return np.round(pred_venda[0], 2)\n",
        "\n",
        "gr.Interface( fn = predict_venda,\n",
        "              inputs = [gr.inputs.Number(label = 'Quantidade de vagas'), gr.inputs.Slider(27, 550, label = 'Área útil (m2)')],\n",
        "              outputs = gr.outputs.Textbox(label='Valor de venda previsto (kR$)')\n",
        "            ).launch();"
      ],
      "metadata": {
        "colab": {
          "base_uri": "https://localhost:8080/",
          "height": 759
        },
        "id": "xP8JNuNl4sKj",
        "outputId": "fff76bfd-0492-4807-fb94-7a791d77cb29"
      },
      "execution_count": 54,
      "outputs": [
        {
          "output_type": "stream",
          "name": "stderr",
          "text": [
            "/usr/local/lib/python3.7/dist-packages/gradio/inputs.py:59: UserWarning: Usage of gradio.inputs is deprecated, and will not be supported in the future, please import your component from gradio.components\n",
            "  \"Usage of gradio.inputs is deprecated, and will not be supported in the future, please import your component from gradio.components\",\n",
            "/usr/local/lib/python3.7/dist-packages/gradio/deprecation.py:40: UserWarning: `optional` parameter is deprecated, and it has no effect\n",
            "  warnings.warn(value)\n",
            "/usr/local/lib/python3.7/dist-packages/gradio/inputs.py:89: UserWarning: Usage of gradio.inputs is deprecated, and will not be supported in the future, please import your component from gradio.components\n",
            "  \"Usage of gradio.inputs is deprecated, and will not be supported in the future, please import your component from gradio.components\",\n",
            "/usr/local/lib/python3.7/dist-packages/gradio/outputs.py:22: UserWarning: Usage of gradio.outputs is deprecated, and will not be supported in the future, please import your components from gradio.components\n",
            "  \"Usage of gradio.outputs is deprecated, and will not be supported in the future, please import your components from gradio.components\",\n",
            "/usr/local/lib/python3.7/dist-packages/gradio/deprecation.py:40: UserWarning: The 'type' parameter has been deprecated. Use the Number component instead.\n",
            "  warnings.warn(value)\n"
          ]
        },
        {
          "output_type": "stream",
          "name": "stdout",
          "text": [
            "Colab notebook detected. To show errors in colab notebook, set `debug=True` in `launch()`\n",
            "Running on public URL: https://15832.gradio.app\n",
            "\n",
            "This share link expires in 72 hours. For free permanent hosting, check out Spaces: https://huggingface.co/spaces\n"
          ]
        },
        {
          "output_type": "display_data",
          "data": {
            "text/plain": [
              "<IPython.core.display.HTML object>"
            ],
            "text/html": [
              "<div><iframe src=\"https://15832.gradio.app\" width=\"900\" height=\"500\" allow=\"autoplay; camera; microphone;\" frameborder=\"0\" allowfullscreen></iframe></div>"
            ]
          },
          "metadata": {}
        }
      ]
    },
    {
      "cell_type": "markdown",
      "source": [
        "[Voltar ao topo](#Topo)"
      ],
      "metadata": {
        "id": "DXJvvKA4HwrQ"
      }
    }
  ]
}